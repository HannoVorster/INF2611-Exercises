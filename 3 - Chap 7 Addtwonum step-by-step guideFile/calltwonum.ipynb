{
 "cells": [
  {
   "cell_type": "code",
   "execution_count": 1,
   "metadata": {},
   "outputs": [
    {
     "ename": "SystemExit",
     "evalue": "0",
     "output_type": "error",
     "traceback": [
      "An exception has occurred, use %tb to see the full traceback.\n",
      "\u001b[1;31mSystemExit\u001b[0m\u001b[1;31m:\u001b[0m 0\n"
     ]
    },
    {
     "name": "stderr",
     "output_type": "stream",
     "text": [
      "c:\\ProgramData\\Anaconda3\\lib\\site-packages\\IPython\\core\\interactiveshell.py:3452: UserWarning: To exit: use 'exit', 'quit', or Ctrl-D.\n",
      "  warn(\"To exit: use 'exit', 'quit', or Ctrl-D.\", stacklevel=1)\n"
     ]
    }
   ],
   "source": [
    "import sys\n",
    "\n",
    "from PyQt5.QtWidgets import QDialog, QApplication\n",
    "\n",
    "from addtwonum import *\n",
    "\n",
    "class MyForm(QDialog):\n",
    "    def __init__(self):\n",
    "        super().__init__()\n",
    "        self.ui = Ui_Dialog()\n",
    "        self.ui.setupUi(self)\n",
    "        self.ui.AddButton.clicked.connect(self.dispsum)\n",
    "\n",
    "    def dispsum(self):\n",
    "        if len(self.ui.lineFirstNumber.text()) != 0:\n",
    "            a = int(self.ui.lineFirstNumber.text())\n",
    "        else:\n",
    "            a = 0\n",
    "        if len(self.ui.lineSecondNumber.text()) != 0:\n",
    "            b = int(self.ui.lineSecondNumber.text())\n",
    "        else:\n",
    "            b = 0\n",
    "        \n",
    "        sum = a+b\n",
    "        self.ui.labelAddition.setText(\"Sum of 2 lines: \" + str(sum))\n",
    "\n",
    "if __name__ == \"__main__\":\n",
    "    app = QApplication(sys.argv)\n",
    "    myapp = MyForm()\n",
    "    myapp.show()\n",
    "    sys.exit(app.exec_())"
   ]
  }
 ],
 "metadata": {
  "interpreter": {
   "hash": "ad2bdc8ecc057115af97d19610ffacc2b4e99fae6737bb82f5d7fb13d2f2c186"
  },
  "kernelspec": {
   "display_name": "Python 3.9.7 ('base')",
   "language": "python",
   "name": "python3"
  },
  "language_info": {
   "codemirror_mode": {
    "name": "ipython",
    "version": 3
   },
   "file_extension": ".py",
   "mimetype": "text/x-python",
   "name": "python",
   "nbconvert_exporter": "python",
   "pygments_lexer": "ipython3",
   "version": "3.9.7"
  },
  "orig_nbformat": 4
 },
 "nbformat": 4,
 "nbformat_minor": 2
}
