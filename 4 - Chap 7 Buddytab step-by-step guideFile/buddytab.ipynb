{
 "cells": [
  {
   "cell_type": "code",
   "execution_count": 1,
   "metadata": {},
   "outputs": [
    {
     "ename": "SystemExit",
     "evalue": "0",
     "output_type": "error",
     "traceback": [
      "An exception has occurred, use %tb to see the full traceback.\n",
      "\u001b[1;31mSystemExit\u001b[0m\u001b[1;31m:\u001b[0m 0\n"
     ]
    },
    {
     "name": "stderr",
     "output_type": "stream",
     "text": [
      "c:\\ProgramData\\Anaconda3\\lib\\site-packages\\IPython\\core\\interactiveshell.py:3452: UserWarning: To exit: use 'exit', 'quit', or Ctrl-D.\n",
      "  warn(\"To exit: use 'exit', 'quit', or Ctrl-D.\", stacklevel=1)\n"
     ]
    }
   ],
   "source": [
    "import sys\n",
    "\n",
    "from PyQt5.QtWidgets import QDialog, QApplication\n",
    "\n",
    "from buddytab import *\n",
    "\n",
    "class MyForm(QDialog):\n",
    "    def __init__(self):\n",
    "        super().__init__()\n",
    "        self.ui = Ui_Dialog()\n",
    "        self.ui.setupUi(self)\n",
    "        self.ui.btnCalculate.clicked.connect(self.calcTotal)\n",
    "\n",
    "    def calcTotal(self):\n",
    "        if len(self.ui.lineQuantity.text()) != 0:\n",
    "            q = int(self.ui.lineQuantity.text())\n",
    "        else:\n",
    "            q = 0\n",
    "\n",
    "        if len(self.ui.lineRate.text()) != 0:\n",
    "            r = int(self.ui.lineRate.text())\n",
    "        else:\n",
    "            r = 0\n",
    "\n",
    "        if len(self.ui.lineDiscount.text()) != 0:\n",
    "            d = int(self.ui.lineDiscount.text())\n",
    "        else:\n",
    "            d = 0\n",
    "        \n",
    "        total=q*r\n",
    "        discount = total*d/100\n",
    "        nettotal=total-discount\n",
    "\n",
    "        self.ui.labelResult.setText(\"Total Amount: R\" + str(total) + \", Discount: R\" + str(discount) + \", net Amount: R\" + str(nettotal))\n",
    "\n",
    "if __name__ == \"__main__\":\n",
    "    app = QApplication(sys.argv)\n",
    "    myapp = MyForm()\n",
    "    myapp.show()\n",
    "    sys.exit(app.exec_())"
   ]
  }
 ],
 "metadata": {
  "interpreter": {
   "hash": "ad2bdc8ecc057115af97d19610ffacc2b4e99fae6737bb82f5d7fb13d2f2c186"
  },
  "kernelspec": {
   "display_name": "Python 3.9.7 ('base')",
   "language": "python",
   "name": "python3"
  },
  "language_info": {
   "codemirror_mode": {
    "name": "ipython",
    "version": 3
   },
   "file_extension": ".py",
   "mimetype": "text/x-python",
   "name": "python",
   "nbconvert_exporter": "python",
   "pygments_lexer": "ipython3",
   "version": "3.9.7"
  },
  "orig_nbformat": 4
 },
 "nbformat": 4,
 "nbformat_minor": 2
}
